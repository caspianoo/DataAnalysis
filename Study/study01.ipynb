{
 "cells": [
  {
   "cell_type": "code",
   "execution_count": 6,
   "metadata": {},
   "outputs": [
    {
     "data": {
      "text/html": [
       "<div>\n",
       "<style scoped>\n",
       "    .dataframe tbody tr th:only-of-type {\n",
       "        vertical-align: middle;\n",
       "    }\n",
       "\n",
       "    .dataframe tbody tr th {\n",
       "        vertical-align: top;\n",
       "    }\n",
       "\n",
       "    .dataframe thead th {\n",
       "        text-align: right;\n",
       "    }\n",
       "</style>\n",
       "<table border=\"1\" class=\"dataframe\">\n",
       "  <thead>\n",
       "    <tr style=\"text-align: right;\">\n",
       "      <th></th>\n",
       "      <th>C1</th>\n",
       "      <th>C2</th>\n",
       "      <th>C3</th>\n",
       "      <th>C4</th>\n",
       "    </tr>\n",
       "  </thead>\n",
       "  <tbody>\n",
       "    <tr>\n",
       "      <th>0</th>\n",
       "      <td>0.101485</td>\n",
       "      <td>-1.163526</td>\n",
       "      <td>-0.093844</td>\n",
       "      <td>-0.585969</td>\n",
       "    </tr>\n",
       "    <tr>\n",
       "      <th>1</th>\n",
       "      <td>0.853638</td>\n",
       "      <td>-0.777623</td>\n",
       "      <td>1.296258</td>\n",
       "      <td>-0.293083</td>\n",
       "    </tr>\n",
       "    <tr>\n",
       "      <th>2</th>\n",
       "      <td>-0.300001</td>\n",
       "      <td>-1.164910</td>\n",
       "      <td>-0.313026</td>\n",
       "      <td>-1.024093</td>\n",
       "    </tr>\n",
       "    <tr>\n",
       "      <th>3</th>\n",
       "      <td>0.754696</td>\n",
       "      <td>1.387127</td>\n",
       "      <td>-0.135972</td>\n",
       "      <td>1.101532</td>\n",
       "    </tr>\n",
       "    <tr>\n",
       "      <th>4</th>\n",
       "      <td>0.322486</td>\n",
       "      <td>-0.029707</td>\n",
       "      <td>0.951510</td>\n",
       "      <td>0.904882</td>\n",
       "    </tr>\n",
       "    <tr>\n",
       "      <th>5</th>\n",
       "      <td>-0.796216</td>\n",
       "      <td>1.637342</td>\n",
       "      <td>-0.301800</td>\n",
       "      <td>-0.667842</td>\n",
       "    </tr>\n",
       "    <tr>\n",
       "      <th>6</th>\n",
       "      <td>-0.053560</td>\n",
       "      <td>-1.418217</td>\n",
       "      <td>-0.370080</td>\n",
       "      <td>-0.824777</td>\n",
       "    </tr>\n",
       "  </tbody>\n",
       "</table>\n",
       "</div>"
      ],
      "text/plain": [
       "         C1        C2        C3        C4\n",
       "0  0.101485 -1.163526 -0.093844 -0.585969\n",
       "1  0.853638 -0.777623  1.296258 -0.293083\n",
       "2 -0.300001 -1.164910 -0.313026 -1.024093\n",
       "3  0.754696  1.387127 -0.135972  1.101532\n",
       "4  0.322486 -0.029707  0.951510  0.904882\n",
       "5 -0.796216  1.637342 -0.301800 -0.667842\n",
       "6 -0.053560 -1.418217 -0.370080 -0.824777"
      ]
     },
     "execution_count": 6,
     "metadata": {},
     "output_type": "execute_result"
    }
   ],
   "source": [
    "import pandas as pd\n",
    "import numpy as np\n",
    "df = pd.DataFrame(np.random.randn(7, 4),\n",
    "                  columns=['C1', 'C2', 'C3','C4'])\n",
    "\n",
    "df"
   ]
  },
  {
   "cell_type": "code",
   "execution_count": 7,
   "metadata": {},
   "outputs": [],
   "source": [
    "df.loc[3, 'C1'] = np.nan\n",
    "df.loc[4, 'C1'] = np.nan\n",
    "df.loc[1, 'C3'] = np.nan\n",
    "df.loc[2, 'C2'] = np.nan\n",
    "df.loc[3, 'C2'] = np.nan\n",
    "df.loc[4, 'C3'] = np.nan"
   ]
  },
  {
   "cell_type": "code",
   "execution_count": 8,
   "metadata": {},
   "outputs": [
    {
     "data": {
      "text/html": [
       "<div>\n",
       "<style scoped>\n",
       "    .dataframe tbody tr th:only-of-type {\n",
       "        vertical-align: middle;\n",
       "    }\n",
       "\n",
       "    .dataframe tbody tr th {\n",
       "        vertical-align: top;\n",
       "    }\n",
       "\n",
       "    .dataframe thead th {\n",
       "        text-align: right;\n",
       "    }\n",
       "</style>\n",
       "<table border=\"1\" class=\"dataframe\">\n",
       "  <thead>\n",
       "    <tr style=\"text-align: right;\">\n",
       "      <th></th>\n",
       "      <th>C1</th>\n",
       "      <th>C2</th>\n",
       "      <th>C3</th>\n",
       "      <th>C4</th>\n",
       "    </tr>\n",
       "  </thead>\n",
       "  <tbody>\n",
       "    <tr>\n",
       "      <th>0</th>\n",
       "      <td>0.101485</td>\n",
       "      <td>-1.163526</td>\n",
       "      <td>-0.093844</td>\n",
       "      <td>-0.585969</td>\n",
       "    </tr>\n",
       "    <tr>\n",
       "      <th>1</th>\n",
       "      <td>0.853638</td>\n",
       "      <td>-0.777623</td>\n",
       "      <td>NaN</td>\n",
       "      <td>-0.293083</td>\n",
       "    </tr>\n",
       "    <tr>\n",
       "      <th>2</th>\n",
       "      <td>-0.300001</td>\n",
       "      <td>NaN</td>\n",
       "      <td>-0.313026</td>\n",
       "      <td>-1.024093</td>\n",
       "    </tr>\n",
       "    <tr>\n",
       "      <th>3</th>\n",
       "      <td>NaN</td>\n",
       "      <td>NaN</td>\n",
       "      <td>-0.135972</td>\n",
       "      <td>1.101532</td>\n",
       "    </tr>\n",
       "    <tr>\n",
       "      <th>4</th>\n",
       "      <td>NaN</td>\n",
       "      <td>-0.029707</td>\n",
       "      <td>NaN</td>\n",
       "      <td>0.904882</td>\n",
       "    </tr>\n",
       "    <tr>\n",
       "      <th>5</th>\n",
       "      <td>-0.796216</td>\n",
       "      <td>1.637342</td>\n",
       "      <td>-0.301800</td>\n",
       "      <td>-0.667842</td>\n",
       "    </tr>\n",
       "    <tr>\n",
       "      <th>6</th>\n",
       "      <td>-0.053560</td>\n",
       "      <td>-1.418217</td>\n",
       "      <td>-0.370080</td>\n",
       "      <td>-0.824777</td>\n",
       "    </tr>\n",
       "  </tbody>\n",
       "</table>\n",
       "</div>"
      ],
      "text/plain": [
       "         C1        C2        C3        C4\n",
       "0  0.101485 -1.163526 -0.093844 -0.585969\n",
       "1  0.853638 -0.777623       NaN -0.293083\n",
       "2 -0.300001       NaN -0.313026 -1.024093\n",
       "3       NaN       NaN -0.135972  1.101532\n",
       "4       NaN -0.029707       NaN  0.904882\n",
       "5 -0.796216  1.637342 -0.301800 -0.667842\n",
       "6 -0.053560 -1.418217 -0.370080 -0.824777"
      ]
     },
     "execution_count": 8,
     "metadata": {},
     "output_type": "execute_result"
    }
   ],
   "source": [
    "df"
   ]
  },
  {
   "cell_type": "code",
   "execution_count": 9,
   "metadata": {},
   "outputs": [
    {
     "data": {
      "text/plain": [
       "(array([1, 2, 3, 3, 4, 4]), array([2, 1, 0, 1, 0, 2]))"
      ]
     },
     "execution_count": 9,
     "metadata": {},
     "output_type": "execute_result"
    }
   ],
   "source": [
    "np.where(pd.isnull(df))"
   ]
  },
  {
   "cell_type": "code",
   "execution_count": null,
   "metadata": {},
   "outputs": [],
   "source": []
  }
 ],
 "metadata": {
  "kernelspec": {
   "display_name": "Python 3",
   "language": "python",
   "name": "python3"
  },
  "language_info": {
   "codemirror_mode": {
    "name": "ipython",
    "version": 3
   },
   "file_extension": ".py",
   "mimetype": "text/x-python",
   "name": "python",
   "nbconvert_exporter": "python",
   "pygments_lexer": "ipython3",
   "version": "3.12.4"
  }
 },
 "nbformat": 4,
 "nbformat_minor": 2
}
