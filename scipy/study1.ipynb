{
 "cells": [
  {
   "cell_type": "markdown",
   "metadata": {},
   "source": [
    "# T-test"
   ]
  },
  {
   "cell_type": "code",
   "execution_count": 4,
   "metadata": {},
   "outputs": [
    {
     "name": "stdout",
     "output_type": "stream",
     "text": [
      "T-statistic: 0.24218412394577818, P-value: 0.8140659956820037\n"
     ]
    }
   ],
   "source": [
    "import numpy as np\n",
    "from scipy import stats\n",
    "\n",
    "# 예제 데이터\n",
    "data = np.array([2.9, 2.5, 3.2, 3.8, 2.7, 3.0, 3.4, 3.2, 3.0, 2.6])\n",
    "\n",
    "# 모집단 평균 (예: 3.0)\n",
    "population_mean = 3.0\n",
    "\n",
    "# Check for normality using Shapiro-Wilk test\n",
    "_, p_value = stats.shapiro(data)\n",
    "\n",
    "if p_value > 0.05:\n",
    "    # Data satisfies normality assumption, perform parametric test\n",
    "    t_statistic, p_value = stats.ttest_1samp(data, population_mean)\n",
    "else:\n",
    "    # Data does not satisfy normality assumption, perform non-parametric test\n",
    "    t_statistic, p_value = stats.wilcoxon(data - population_mean)\n",
    "\n",
    "print(f\"T-statistic: {t_statistic}, P-value: {p_value}\")\n"
   ]
  },
  {
   "cell_type": "code",
   "execution_count": 3,
   "metadata": {},
   "outputs": [
    {
     "name": "stdout",
     "output_type": "stream",
     "text": [
      "T-statistic: -0.07613869876268649, P-value: 0.9411784090197937\n",
      "Levene's test: T-statistic: 0.8366013071895423, P-value: 0.38710814870732296\n"
     ]
    }
   ],
   "source": [
    "import numpy as np\n",
    "from scipy import stats\n",
    "\n",
    "# 예제 데이터\n",
    "group1 = np.array([2.9, 2.5, 3.2, 3.8, 2.7])\n",
    "group2 = np.array([3.0, 3.4, 3.2, 3.0, 2.6])\n",
    "\n",
    "# 독립 표본 T-test\n",
    "t_statistic, p_value = stats.ttest_ind(group1, group2)\n",
    "\n",
    "print(f\"T-statistic: {t_statistic}, P-value: {p_value}\")\n",
    "\n",
    "pr\n",
    "\n",
    "equivariant = stats.levene(group1, group2)\n",
    "print(f\"Levene's test: T-statistic: {equivariant.statistic}, P-value: {equivariant.pvalue}\")\n",
    "# Levene's test: T-statistic: 0.8366013071895423, P-value: 0.38710814870732296\n",
    "# P-value가 0.05보다 크므로 등분산성 가정을 만족한다.\n",
    "\n",
    "if equivariant.pvalue > 0.05:\n",
    "    t_statistic, p_value = stats.ttest_ind(group1, group2, equal_var=True)\n",
    "else:\n",
    "    # equal_var=False로 설정하면 Welch's T-test를 수행\n",
    "    t_statistic, p_value = stats.ttest_ind(group1, group2, equal_var=False)\n"
   ]
  },
  {
   "cell_type": "code",
   "execution_count": null,
   "metadata": {},
   "outputs": [],
   "source": []
  },
  {
   "cell_type": "markdown",
   "metadata": {},
   "source": [
    "# 정규성 검정"
   ]
  },
  {
   "cell_type": "code",
   "execution_count": null,
   "metadata": {},
   "outputs": [],
   "source": []
  }
 ],
 "metadata": {
  "kernelspec": {
   "display_name": "Python 3",
   "language": "python",
   "name": "python3"
  },
  "language_info": {
   "codemirror_mode": {
    "name": "ipython",
    "version": 3
   },
   "file_extension": ".py",
   "mimetype": "text/x-python",
   "name": "python",
   "nbconvert_exporter": "python",
   "pygments_lexer": "ipython3",
   "version": "3.12.4"
  }
 },
 "nbformat": 4,
 "nbformat_minor": 2
}
